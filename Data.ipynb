{
 "cells": [
  {
   "cell_type": "markdown",
   "metadata": {},
   "source": [
    "# Data Description: Prospects Of Starting a Multiplex In The Most Densely Populated District of Tamilnadu, India"
   ]
  },
  {
   "cell_type": "markdown",
   "metadata": {},
   "source": [
    "### Data Source:\n",
    "\n",
    "#### https://en.wikipedia.org/wiki/List_of_districts_of_Tamil_Nadu\n"
   ]
  },
  {
   "cell_type": "markdown",
   "metadata": {},
   "source": [
    "### Dataset Description:\n",
    "\n",
    "#### The dataset at the given link contains the information about various districts in Tamilnadu, their area, population, talukas, map etc.\n",
    "\n",
    "#### This data will be used to extract the information about the districts which are the most populous in the state of Tamil Nadu. \n",
    "\n",
    "#### This data alongwith Foursquare location data will be used for obtaining the information about the number of multiplexes in the data obtained in the preceding step."
   ]
  },
  {
   "cell_type": "markdown",
   "metadata": {},
   "source": [
    "### Data Preparation:\n",
    "\n",
    "#### Scraping Tamilnadu districts from Wikipedia will be done using libraries “requests” and “BeautifulSoup(imported from bs4)” .\n",
    "\n",
    "#### \"Pandas\" Library will be used for creating the dataframe,  various features of the library will be used for data cleaning, data wrangling and Data Preprocessing.\n",
    "\n",
    "#### \"Folium\" Library alongwith \"geocoder\" will be used for mapping the required places and venues "
   ]
  }
 ],
 "metadata": {
  "kernelspec": {
   "display_name": "Python 3",
   "language": "python",
   "name": "python3"
  },
  "language_info": {
   "codemirror_mode": {
    "name": "ipython",
    "version": 3
   },
   "file_extension": ".py",
   "mimetype": "text/x-python",
   "name": "python",
   "nbconvert_exporter": "python",
   "pygments_lexer": "ipython3",
   "version": "3.7.3"
  }
 },
 "nbformat": 4,
 "nbformat_minor": 2
}
