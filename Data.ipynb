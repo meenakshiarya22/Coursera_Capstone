{
 "cells": [
  {
   "attachments": {},
   "cell_type": "markdown",
   "metadata": {},
   "source": [
    "# Data Description: Prospects Of Starting a Multiplex In The Most Densely Populated District of Tamilnadu, India\n",
    "\n",
    "##### Data Source: https://en.wikipedia.org/wiki/List_of_districts_of_Tamil_Nadu The dataset at the given link will be used for obtaining the relevant information about the various districts in Tamilnadu, their area, population and talukas within each district. This data alongwith Foursquare location data will be used for obtaining the information about the number of multiplexes in the most populous districts of Tamilnadu.\n",
    "\n",
    "##### Data Preparation:\n",
    "##### Scraping Tamilnadu districts from Wikipedia was done using libraries “requests” and “BeautifulSoup(imported from bs4)” the table was extracted containing the un-processed data. \n",
    "\n",
    "\n",
    "\n",
    "\n",
    "\n",
    "##### The table needs a lot of preprocessing:\n",
    "##### 1.\tAll rows with more than 2 Null values will be removed.\n",
    "##### 2.\tThe columns with values separated by “\\n” will be separated by “,”.\n",
    "##### 3.\tCertain columns which are not required for our specific problem definition will be dropped.\n",
    "\n"
   ]
  },
  {
   "cell_type": "code",
   "execution_count": null,
   "metadata": {},
   "outputs": [],
   "source": []
  }
 ],
 "metadata": {
  "kernelspec": {
   "display_name": "Python 3",
   "language": "python",
   "name": "python3"
  },
  "language_info": {
   "codemirror_mode": {
    "name": "ipython",
    "version": 3
   },
   "file_extension": ".py",
   "mimetype": "text/x-python",
   "name": "python",
   "nbconvert_exporter": "python",
   "pygments_lexer": "ipython3",
   "version": "3.7.3"
  }
 },
 "nbformat": 4,
 "nbformat_minor": 2
}
