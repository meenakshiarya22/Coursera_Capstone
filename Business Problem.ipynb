{
 "cells": [
  {
   "cell_type": "markdown",
   "metadata": {},
   "source": [
    "# Problem Statement: Prospects Of Starting a Multiplex In The Most Densely Populated District of Tamilnadu, India\n",
    "\n",
    "### TamilNadu is one of the most popular states in the South India as it is the homeground of the Tamil movie industry, popularly known as “Tollywood”. People in Tamilnadu are extremely fond of watching movies and dining out. Thus, it is an opportune candidate for setting up a Multiplex with movie theatres and eating joints. These multiplexes are great business ideas as they provide a one-stop solution to all the needs of customers, ranging from household groceries, to beauty products to dining options to options for entertainment\n",
    "\n",
    "### Tamilnadu majorly comprises of 37 districts however, I will be focusing on the five most populous districts namely Chennai, Tiruvallur, Salem, Coimbatore and Madurai and explore the possibilities of starting a multiplex to meet the requirements of families especially over the weekends. The battle of these neighborhoods will be unrevealed in a detailed manner in the subsequent parts of the implementation.\n",
    "\n"
   ]
  },
  {
   "cell_type": "markdown",
   "metadata": {},
   "source": [
    "# Target Audience\n",
    "\n",
    "### 1.\tChain of multiplex owners who are exploring the options of tapping a potential market where not many multiplexes are available and people are willing to spend money and utilize the services provided in these multiplexes.  \n",
    "### 2.\tPeople interested in uncovering the interesting facts hidden in the data and utilize it to propose a new solution to an existing problem or suggest a solution to a new problem.  \n"
   ]
  },
  {
   "cell_type": "code",
   "execution_count": null,
   "metadata": {},
   "outputs": [],
   "source": []
  }
 ],
 "metadata": {
  "kernelspec": {
   "display_name": "Python 3",
   "language": "python",
   "name": "python3"
  },
  "language_info": {
   "codemirror_mode": {
    "name": "ipython",
    "version": 3
   },
   "file_extension": ".py",
   "mimetype": "text/x-python",
   "name": "python",
   "nbconvert_exporter": "python",
   "pygments_lexer": "ipython3",
   "version": "3.7.3"
  }
 },
 "nbformat": 4,
 "nbformat_minor": 2
}
